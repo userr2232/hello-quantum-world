{
  "nbformat": 4,
  "nbformat_minor": 0,
  "metadata": {
    "colab": {
      "name": "Entanglement.ipynb",
      "provenance": []
    },
    "kernelspec": {
      "name": "python3",
      "display_name": "Python 3"
    }
  },
  "cells": [
    {
      "cell_type": "code",
      "metadata": {
        "id": "cBBDqdxEDCiZ"
      },
      "source": [
        "!pip install -q qiskit==0.16.1"
      ],
      "execution_count": null,
      "outputs": []
    },
    {
      "cell_type": "code",
      "metadata": {
        "id": "4x_FFVPVCQNA"
      },
      "source": [
        "%matplotlib inline\n",
        "\n",
        "from qiskit import *\n",
        "from qiskit.visualization import *\n",
        "from qiskit.tools.monitor import *"
      ],
      "execution_count": 2,
      "outputs": []
    },
    {
      "cell_type": "code",
      "metadata": {
        "colab": {
          "base_uri": "https://localhost:8080/",
          "height": 185
        },
        "id": "GUMt3Ey3DLaO",
        "outputId": "994461ea-675c-41f9-af35-48cb1ab456f6"
      },
      "source": [
        "circ_bell = QuantumCircuit(2, 2)\n",
        "circ_bell.h(0)\n",
        "circ_bell.cx(0, 1)\n",
        "circ_bell.measure(range(2), range(2))\n",
        "\n",
        "circ_bell.draw(output='mpl')"
      ],
      "execution_count": 3,
      "outputs": [
        {
          "output_type": "execute_result",
          "data": {
            "image/png": "[encoded data removed]",
            "text/plain": [
              "<Figure size 418.992x204.68 with 1 Axes>"
            ]
          },
          "metadata": {
            "tags": []
          },
          "execution_count": 3
        }
      ]
    },
    {
      "cell_type": "code",
      "metadata": {
        "colab": {
          "base_uri": "https://localhost:8080/"
        },
        "id": "IEEqLVMmDlmP",
        "outputId": "a5db89c1-97d2-442a-9b78-f361f5d17cc2"
      },
      "source": [
        "backend = Aer.get_backend('qasm_simulator')\n",
        "job = execute(circ_bell, backend, shots=1000)\n",
        "counts = job.result().get_counts()\n",
        "print(counts)"
      ],
      "execution_count": 4,
      "outputs": [
        {
          "output_type": "stream",
          "text": [
            "{'00': 485, '11': 515}\n"
          ],
          "name": "stdout"
        }
      ]
    },
    {
      "cell_type": "code",
      "metadata": {
        "colab": {
          "base_uri": "https://localhost:8080/"
        },
        "id": "U5c7hyApD12Y",
        "outputId": "eeaade35-5871-4ffa-a630-625a51cd37ac"
      },
      "source": [
        "circ_bell2 = QuantumCircuit(2)\n",
        "circ_bell2.h(0)\n",
        "circ_bell2.cx(0, 1)\n",
        "\n",
        "backend = Aer.get_backend('statevector_simulator')\n",
        "job = execute(circ_bell2, backend)\n",
        "\n",
        "state = job.result().get_statevector()\n",
        "\n",
        "for i in range(4):\n",
        "  s = format(i, \"b\")\n",
        "  s = (2*len(s))*\"0\" + s\n",
        "  print(\"Amplitude of\", s, \"=\", state[i])\n",
        "\n",
        "print()\n",
        "\n",
        "for i in range(4):\n",
        "  s = format(i, \"b\")\n",
        "  s = (2*len(s))*\"0\" + s\n",
        "  print(\"Probability of\", s, \"=\", abs(state[i])**2)"
      ],
      "execution_count": 5,
      "outputs": [
        {
          "output_type": "stream",
          "text": [
            "Amplitude of 000 = (0.7071067811865476+0j)\n",
            "Amplitude of 001 = 0j\n",
            "Amplitude of 000010 = 0j\n",
            "Amplitude of 000011 = (0.7071067811865475+0j)\n",
            "\n",
            "Probability of 000 = 0.5000000000000001\n",
            "Probability of 001 = 0.0\n",
            "Probability of 000010 = 0.0\n",
            "Probability of 000011 = 0.4999999999999999\n"
          ],
          "name": "stdout"
        }
      ]
    },
    {
      "cell_type": "code",
      "metadata": {
        "id": "JxejHx-aFJtk"
      },
      "source": [
        "IBMQ.save_account(os.environ['IBMQ_TOKEN'])"
      ],
      "execution_count": 7,
      "outputs": []
    },
    {
      "cell_type": "code",
      "metadata": {
        "colab": {
          "base_uri": "https://localhost:8080/"
        },
        "id": "IuD7m0_nE2YH",
        "outputId": "df8e938c-072e-4bd7-b51c-8cf5840e9288"
      },
      "source": [
        "provider = IBMQ.load_account()\n",
        "backend_overview()"
      ],
      "execution_count": 8,
      "outputs": [
        {
          "output_type": "stream",
          "text": [
            "/usr/local/lib/python3.6/dist-packages/qiskit/providers/models/backendconfiguration.py:366: UserWarning: `dt` and `dtm` now have units of seconds(s) rather than nanoseconds(ns).\n",
            "  warnings.warn('`dt` and `dtm` now have units of seconds(s) rather '\n",
            "/usr/local/lib/python3.6/dist-packages/qiskit/providers/models/backendconfiguration.py:377: UserWarning: `rep_time` now has units of seconds(s) rather than microseconds(mu s).\n",
            "  warnings.warn('`rep_time` now has units of seconds(s) rather '\n"
          ],
          "name": "stderr"
        },
        {
          "output_type": "stream",
          "text": [
            "ibmq_santiago                ibmq_athens                  ibmq_armonk\n",
            "-------------                -----------                  -----------\n",
            "Num. Qubits:  5              Num. Qubits:  5              Num. Qubits:  1\n",
            "Pending Jobs: 2              Pending Jobs: 20             Pending Jobs: 11\n",
            "Least busy:   False          Least busy:   False          Least busy:   False\n",
            "Operational:  True           Operational:  True           Operational:  True\n",
            "Avg. T1:      128.3          Avg. T1:      71.6           Avg. T1:      179.9\n",
            "Avg. T2:      118.4          Avg. T2:      100.6          Avg. T2:      205.2\n",
            "\n",
            "\n",
            "\n",
            "ibmq_valencia                ibmq_ourense                 ibmq_vigo\n",
            "-------------                ------------                 ---------\n",
            "Num. Qubits:  5              Num. Qubits:  5              Num. Qubits:  5\n",
            "Pending Jobs: 1              Pending Jobs: 0              Pending Jobs: 644\n",
            "Least busy:   False          Least busy:   True           Least busy:   False\n",
            "Operational:  True           Operational:  True           Operational:  True\n",
            "Avg. T1:      113.2          Avg. T1:      115.7          Avg. T1:      84.6\n",
            "Avg. T2:      72.1           Avg. T2:      68.4           Avg. T2:      60.5\n",
            "\n",
            "\n",
            "\n",
            "ibmq_16_melbourne            ibmqx2\n",
            "-----------------            ------\n",
            "Num. Qubits:  15             Num. Qubits:  5\n",
            "Pending Jobs: 133            Pending Jobs: 0\n",
            "Least busy:   False          Least busy:   False\n",
            "Operational:  True           Operational:  True\n",
            "Avg. T1:      56.4           Avg. T1:      55.3\n",
            "Avg. T2:      62.6           Avg. T2:      38.4\n",
            "\n",
            "\n",
            "\n"
          ],
          "name": "stdout"
        }
      ]
    },
    {
      "cell_type": "code",
      "metadata": {
        "colab": {
          "base_uri": "https://localhost:8080/",
          "height": 946
        },
        "id": "0cXPAzCyFdlC",
        "outputId": "a53c4226-094a-406f-a5f9-93b6a85f6ec8"
      },
      "source": [
        "backend_monitor(provider.backends.ibmq_ourense)"
      ],
      "execution_count": 11,
      "outputs": [
        {
          "output_type": "stream",
          "text": [
            "ibmq_ourense\n",
            "============\n",
            "Configuration\n",
            "-------------\n",
            "    n_qubits: 5\n",
            "    operational: True\n",
            "    status_msg: active\n",
            "    pending_jobs: 0\n",
            "    backend_version: 1.3.4\n",
            "    basis_gates: ['id', 'u1', 'u2', 'u3', 'cx']\n",
            "    local: False\n",
            "    simulator: False\n",
            "    memory: True\n",
            "    allow_object_storage: True\n",
            "    max_experiments: 75\n",
            "    n_registers: 1\n",
            "    default_rep_delay: 250\n",
            "    sample_name: Giraffe\n",
            "    allow_q_object: True\n",
            "    conditional: False\n",
            "    open_pulse: False\n",
            "    coupling_map: [[0, 1], [1, 0], [1, 2], [1, 3], [2, 1], [3, 1], [3, 4], [4, 3]]\n",
            "    url: None\n",
            "    backend_name: ibmq_ourense\n",
            "    max_shots: 8192\n",
            "    dtm: 0.2222222222222222\n",
            "    meas_map: [[0, 1, 2, 3, 4]]\n",
            "    description: 5 qubit device Ourense\n",
            "    supported_instructions: ['cx', 'id', 'delay', 'measure', 'reset', 'rz', 'sx', 'u1', 'u2', 'u3', 'x']\n",
            "    rep_delay_range: [0, 500]\n",
            "    dt: 0.2222222222222222\n",
            "    quantum_volume: 8\n",
            "    online_date: 2019-07-03T04:00:00+00:00\n",
            "    multi_meas_enabled: False\n",
            "    dynamic_reprate_enabled: True\n",
            "    credits_required: True\n",
            "\n",
            "Qubits [Name / Freq / T1 / T2 / U1 err / U2 err / U3 err / Readout err]\n",
            "-----------------------------------------------------------------------\n"
          ],
          "name": "stdout"
        },
        {
          "output_type": "error",
          "ename": "UnboundLocalError",
          "evalue": "ignored",
          "traceback": [
            "\u001b[0;31m---------------------------------------------------------------------------\u001b[0m",
            "\u001b[0;31mUnboundLocalError\u001b[0m                         Traceback (most recent call last)",
            "\u001b[0;32m<ipython-input-11-23e2a1d5c86e>\u001b[0m in \u001b[0;36m<module>\u001b[0;34m()\u001b[0m\n\u001b[0;32m----> 1\u001b[0;31m \u001b[0mbackend_monitor\u001b[0m\u001b[0;34m(\u001b[0m\u001b[0mprovider\u001b[0m\u001b[0;34m.\u001b[0m\u001b[0mbackends\u001b[0m\u001b[0;34m.\u001b[0m\u001b[0mibmq_ourense\u001b[0m\u001b[0;34m)\u001b[0m\u001b[0;34m\u001b[0m\u001b[0;34m\u001b[0m\u001b[0m\n\u001b[0m",
            "\u001b[0;32m/usr/local/lib/python3.6/dist-packages/qiskit/tools/monitor/backend_overview.py\u001b[0m in \u001b[0;36mbackend_monitor\u001b[0;34m(backend)\u001b[0m\n\u001b[1;32m    134\u001b[0m         \u001b[0mreadout_error\u001b[0m \u001b[0;34m=\u001b[0m \u001b[0mstr\u001b[0m\u001b[0;34m(\u001b[0m\u001b[0mround\u001b[0m\u001b[0;34m(\u001b[0m\u001b[0mreadout_info\u001b[0m\u001b[0;34m[\u001b[0m\u001b[0;34m'value'\u001b[0m\u001b[0;34m]\u001b[0m\u001b[0;34m,\u001b[0m \u001b[0;36m5\u001b[0m\u001b[0;34m)\u001b[0m\u001b[0;34m)\u001b[0m\u001b[0;34m\u001b[0m\u001b[0;34m\u001b[0m\u001b[0m\n\u001b[1;32m    135\u001b[0m \u001b[0;34m\u001b[0m\u001b[0m\n\u001b[0;32m--> 136\u001b[0;31m         \u001b[0mqstr\u001b[0m \u001b[0;34m=\u001b[0m \u001b[0msep\u001b[0m\u001b[0;34m.\u001b[0m\u001b[0mjoin\u001b[0m\u001b[0;34m(\u001b[0m\u001b[0;34m[\u001b[0m\u001b[0mname\u001b[0m\u001b[0;34m,\u001b[0m \u001b[0mfreq\u001b[0m\u001b[0;34m,\u001b[0m \u001b[0mT1\u001b[0m\u001b[0;34m,\u001b[0m \u001b[0mT2\u001b[0m\u001b[0;34m,\u001b[0m \u001b[0mU1\u001b[0m\u001b[0;34m,\u001b[0m \u001b[0mU2\u001b[0m\u001b[0;34m,\u001b[0m \u001b[0mU3\u001b[0m\u001b[0;34m,\u001b[0m \u001b[0mreadout_error\u001b[0m\u001b[0;34m]\u001b[0m\u001b[0;34m)\u001b[0m\u001b[0;34m\u001b[0m\u001b[0;34m\u001b[0m\u001b[0m\n\u001b[0m\u001b[1;32m    137\u001b[0m         \u001b[0mprint\u001b[0m\u001b[0;34m(\u001b[0m\u001b[0moffset\u001b[0m\u001b[0;34m+\u001b[0m\u001b[0mqstr\u001b[0m\u001b[0;34m)\u001b[0m\u001b[0;34m\u001b[0m\u001b[0;34m\u001b[0m\u001b[0m\n\u001b[1;32m    138\u001b[0m \u001b[0;34m\u001b[0m\u001b[0m\n",
            "\u001b[0;31mUnboundLocalError\u001b[0m: local variable 'U1' referenced before assignment"
          ]
        }
      ]
    },
    {
      "cell_type": "markdown",
      "metadata": {
        "id": "-OSQfURCGhC6"
      },
      "source": [
        "The error above is related to: https://github.com/Qiskit/qiskit-ibmq-provider/issues/844"
      ]
    },
    {
      "cell_type": "code",
      "metadata": {
        "colab": {
          "base_uri": "https://localhost:8080/"
        },
        "id": "BuVcr1NQGR2T",
        "outputId": "558ef994-d6ca-4441-9088-116070321aba"
      },
      "source": [
        "from qiskit.providers.ibmq import least_busy\n",
        "\n",
        "backend = least_busy(provider.backends(operational=True, simulator=False, status_msg='active',\n",
        "                                       filters=lambda x: x.configuration().n_qubits > 1))\n",
        "print(\"We are executing on backend\", backend)\n",
        "print(\"It has\", backend.status().pending_jobs, \"pending jobs\")\n",
        "job_exp = execute(circ_bell, backend=backend)\n",
        "job_monitor(job_exp)"
      ],
      "execution_count": 13,
      "outputs": [
        {
          "output_type": "stream",
          "text": [
            "We are executing on backend ibmqx2\n",
            "It has 0 pending jobs\n",
            "Job Status: job has successfully run\n"
          ],
          "name": "stdout"
        }
      ]
    },
    {
      "cell_type": "code",
      "metadata": {
        "colab": {
          "base_uri": "https://localhost:8080/",
          "height": 331
        },
        "id": "8Ml37R_3HZQl",
        "outputId": "0d9a2cec-cbf8-444b-ca5d-e90512eb823a"
      },
      "source": [
        "result_exp = job_exp.result()\n",
        "counts_exp = result_exp.get_counts(circ_bell)\n",
        "plot_histogram([counts_exp, counts], legend=['Device', 'Simulator'])"
      ],
      "execution_count": 15,
      "outputs": [
        {
          "output_type": "execute_result",
          "data": {
            "image/png": "[encoded data removed]",
            "text/plain": [
              "<Figure size 504x360 with 1 Axes>"
            ]
          },
          "metadata": {
            "tags": []
          },
          "execution_count": 15
        }
      ]
    }
  ]
}