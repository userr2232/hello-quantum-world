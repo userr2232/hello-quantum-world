{
  "nbformat": 4,
  "nbformat_minor": 0,
  "metadata": {
    "colab": {
      "name": "Hello, Qiskit.ipynb",
      "provenance": [],
      "collapsed_sections": []
    },
    "kernelspec": {
      "name": "python3",
      "display_name": "Python 3"
    }
  },
  "cells": [
    {
      "cell_type": "markdown",
      "metadata": {
        "id": "fQL7yIJHh6Na"
      },
      "source": [
        "## A practical Introduction to QC by Elias Combarro:\n",
        "\n",
        "https://www.youtube.com/watch?v=jwHM8AHOtJ0&ab_channel=CERNLectures"
      ]
    },
    {
      "cell_type": "code",
      "metadata": {
        "id": "Tj1qkwAMoOQk"
      },
      "source": [
        "!pip install -q qiskit==0.16.1\n",
        "!pip install -q --upgrade pylatexenc"
      ],
      "execution_count": 1,
      "outputs": []
    },
    {
      "cell_type": "code",
      "metadata": {
        "id": "3pqCKoVVn7IZ"
      },
      "source": [
        "%matplotlib inline\n",
        "\n",
        "from qiskit import *\n",
        "from qiskit.visualization import *\n",
        "from qiskit.tools.monitor import *\n",
        "\n",
        "import os"
      ],
      "execution_count": 11,
      "outputs": []
    },
    {
      "cell_type": "code",
      "metadata": {
        "colab": {
          "base_uri": "https://localhost:8080/",
          "height": 140
        },
        "id": "4U7omGQqoKqr",
        "outputId": "d23b0dfc-ecbf-4dac-ab08-694803a03e37"
      },
      "source": [
        "circ = QuantumCircuit(1, 1)\n",
        "circ.h(0)\n",
        "circ.measure(range(1), range(1))\n",
        "circ.draw(output='mpl')"
      ],
      "execution_count": 3,
      "outputs": [
        {
          "output_type": "execute_result",
          "data": {
            "image/png": "[encoded data removed]",
            "text/plain": [
              "<Figure size 233.576x144.48 with 1 Axes>"
            ]
          },
          "metadata": {
            "tags": []
          },
          "execution_count": 3
        }
      ]
    },
    {
      "cell_type": "code",
      "metadata": {
        "id": "JzjzuCrturnp",
        "colab": {
          "base_uri": "https://localhost:8080/"
        },
        "outputId": "e2beb9a8-5653-451f-f7c3-a44aa3e41e04"
      },
      "source": [
        "print(circ.qasm())"
      ],
      "execution_count": 4,
      "outputs": [
        {
          "output_type": "stream",
          "text": [
            "OPENQASM 2.0;\n",
            "include \"qelib1.inc\";\n",
            "qreg q[1];\n",
            "creg c[1];\n",
            "h q[0];\n",
            "measure q[0] -> c[0];\n",
            "\n"
          ],
          "name": "stdout"
        }
      ]
    },
    {
      "cell_type": "code",
      "metadata": {
        "colab": {
          "base_uri": "https://localhost:8080/",
          "height": 340
        },
        "id": "nqdpY8-2bdLg",
        "outputId": "129b32bb-f820-459b-f111-3e25b43eab28"
      },
      "source": [
        "backend_sim = Aer.get_backend('qasm_simulator')\n",
        "job_sim = execute(circ, backend_sim, shots=1024)\n",
        "result_sim = job_sim.result()\n",
        "counts = result_sim.get_counts(circ)\n",
        "print(counts)\n",
        "plot_histogram(counts)"
      ],
      "execution_count": 5,
      "outputs": [
        {
          "output_type": "stream",
          "text": [
            "{'0': 524, '1': 500}\n"
          ],
          "name": "stdout"
        },
        {
          "output_type": "execute_result",
          "data": {
            "image/png": "[encoded data removed]",
            "text/plain": [
              "<Figure size 504x360 with 1 Axes>"
            ]
          },
          "metadata": {
            "tags": []
          },
          "execution_count": 5
        }
      ]
    },
    {
      "cell_type": "code",
      "metadata": {
        "colab": {
          "base_uri": "https://localhost:8080/"
        },
        "id": "lt2dE8lkcCjx",
        "outputId": "c74b9caa-72c5-4f21-92b1-886c4007bc40"
      },
      "source": [
        "circ2 = QuantumCircuit(1, 1)\n",
        "circ2.h(0)\n",
        "backend = Aer.get_backend('statevector_simulator')\n",
        "job = execute(circ2, backend)\n",
        "result = job.result()\n",
        "outputstate = result.get_statevector()\n",
        "print(outputstate)"
      ],
      "execution_count": 6,
      "outputs": [
        {
          "output_type": "stream",
          "text": [
            "[0.70710678+0.j 0.70710678+0.j]\n"
          ],
          "name": "stdout"
        }
      ]
    },
    {
      "cell_type": "code",
      "metadata": {
        "colab": {
          "base_uri": "https://localhost:8080/"
        },
        "id": "Jtk1UkjicoOs",
        "outputId": "e17ede6a-ecd9-4f42-a24b-ee270d2748f2"
      },
      "source": [
        "backend = Aer.get_backend('unitary_simulator')\n",
        "job = execute(circ2, backend)\n",
        "result = job.result()\n",
        "unitary = result.get_unitary()\n",
        "print(unitary)"
      ],
      "execution_count": 8,
      "outputs": [
        {
          "output_type": "stream",
          "text": [
            "[[ 0.70710678+0.00000000e+00j  0.70710678-8.65956056e-17j]\n",
            " [ 0.70710678+0.00000000e+00j -0.70710678+8.65956056e-17j]]\n"
          ],
          "name": "stdout"
        }
      ]
    },
    {
      "cell_type": "code",
      "metadata": {
        "id": "LqF6fIT2eINs"
      },
      "source": [
        "IBMQ.save_account(os.environ['IBMQ_TOKEN'])"
      ],
      "execution_count": 17,
      "outputs": []
    },
    {
      "cell_type": "code",
      "metadata": {
        "colab": {
          "base_uri": "https://localhost:8080/"
        },
        "id": "CQUT2n3BdL3_",
        "outputId": "92410e46-66d6-4746-ff5c-e61a6679f980"
      },
      "source": [
        "provider = IBMQ.load_account()\n",
        "provider.backends()\n",
        "\n",
        "for b in provider.backends():\n",
        "  print(b.status().to_dict())"
      ],
      "execution_count": 18,
      "outputs": [
        {
          "output_type": "stream",
          "text": [
            "{'pending_jobs': 35, 'status_msg': 'active', 'backend_name': 'ibmq_qasm_simulator', 'operational': True, 'backend_version': '0.1.547'}\n",
            "{'pending_jobs': 6, 'status_msg': 'active', 'backend_name': 'ibmqx2', 'operational': True, 'backend_version': '2.2.5'}\n",
            "{'pending_jobs': 426, 'status_msg': 'active', 'backend_name': 'ibmq_16_melbourne', 'operational': True, 'backend_version': '2.3.4'}\n",
            "{'pending_jobs': 425, 'status_msg': 'active', 'backend_name': 'ibmq_vigo', 'operational': True, 'backend_version': '1.3.4'}\n",
            "{'pending_jobs': 515, 'status_msg': 'active', 'backend_name': 'ibmq_ourense', 'operational': True, 'backend_version': '1.3.4'}\n",
            "{'pending_jobs': 204, 'status_msg': 'active', 'backend_name': 'ibmq_valencia', 'operational': True, 'backend_version': '1.4.4'}\n",
            "{'pending_jobs': 0, 'status_msg': 'active', 'backend_name': 'ibmq_armonk', 'operational': True, 'backend_version': '1.1.4'}\n",
            "{'pending_jobs': 6, 'status_msg': 'active', 'backend_name': 'ibmq_athens', 'operational': True, 'backend_version': '1.3.4'}\n",
            "{'pending_jobs': 6, 'status_msg': 'active', 'backend_name': 'ibmq_santiago', 'operational': True, 'backend_version': '1.3.3'}\n"
          ],
          "name": "stdout"
        }
      ]
    },
    {
      "cell_type": "code",
      "metadata": {
        "colab": {
          "base_uri": "https://localhost:8080/",
          "height": 340
        },
        "id": "jVWHG6x0fmsd",
        "outputId": "df672cae-b5db-4e77-cc24-415007d38887"
      },
      "source": [
        "backend_sim = provider.get_backend('ibmq_qasm_simulator')\n",
        "job_sim = execute(circ, backend_sim, shots=1024)\n",
        "result_sim = job_sim.result()\n",
        "counts = result_sim.get_counts(circ) # obtain the freq.\n",
        "print(counts)\n",
        "plot_histogram(counts)"
      ],
      "execution_count": 19,
      "outputs": [
        {
          "output_type": "stream",
          "text": [
            "{'0': 488, '1': 536}\n"
          ],
          "name": "stdout"
        },
        {
          "output_type": "execute_result",
          "data": {
            "image/png": "[encoded data removed]",
            "text/plain": [
              "<Figure size 504x360 with 1 Axes>"
            ]
          },
          "metadata": {
            "tags": []
          },
          "execution_count": 19
        }
      ]
    },
    {
      "cell_type": "code",
      "metadata": {
        "colab": {
          "base_uri": "https://localhost:8080/"
        },
        "id": "uudQMAJ9gNRd",
        "outputId": "bb4a7514-f427-4966-dce2-df601289d305"
      },
      "source": [
        "backend = provider.get_backend('ibmq_armonk')\n",
        "job_exp = execute(circ, backend_sim, shots=1024)\n",
        "job_monitor(job_exp)"
      ],
      "execution_count": 20,
      "outputs": [
        {
          "output_type": "stream",
          "text": [
            "Job Status: job has successfully run\n"
          ],
          "name": "stdout"
        }
      ]
    },
    {
      "cell_type": "code",
      "metadata": {
        "colab": {
          "base_uri": "https://localhost:8080/",
          "height": 323
        },
        "id": "HJAls8LSg1o7",
        "outputId": "cca201cc-ee07-45ee-ad0e-6a4606ae31aa"
      },
      "source": [
        "result_exp = job_exp.result()\n",
        "counts_exp = result_exp.get_counts(circ)\n",
        "plot_histogram([counts_exp, counts], legend=['Device', 'Simulator'])"
      ],
      "execution_count": 21,
      "outputs": [
        {
          "output_type": "execute_result",
          "data": {
            "image/png": "[encoded data removed]",
            "text/plain": [
              "<Figure size 504x360 with 1 Axes>"
            ]
          },
          "metadata": {
            "tags": []
          },
          "execution_count": 21
        }
      ]
    }
  ]
}