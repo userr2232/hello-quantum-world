{
  "nbformat": 4,
  "nbformat_minor": 0,
  "metadata": {
    "colab": {
      "name": "BB84.ipynb",
      "provenance": [],
      "collapsed_sections": []
    },
    "kernelspec": {
      "name": "python3",
      "display_name": "Python 3"
    }
  },
  "cells": [
    {
      "cell_type": "markdown",
      "metadata": {
        "id": "TCA6zJHwV91t"
      },
      "source": [
        "A practical introduction to quantum computing by Elias Combarro (2/7):\n",
        "\n",
        "https://www.youtube.com/watch?v=SPQ-rvtaREs&ab_channel=CERNLectures"
      ]
    },
    {
      "cell_type": "code",
      "metadata": {
        "id": "qIzmIN-1OkHB"
      },
      "source": [
        "!pip install -q qiskit==0.16.1\n",
        "!pip install -q --upgrade pylatexenc"
      ],
      "execution_count": null,
      "outputs": []
    },
    {
      "cell_type": "code",
      "metadata": {
        "id": "QljMv25yOXnR"
      },
      "source": [
        "%matplotlib inline\n",
        "\n",
        "from qiskit import *\n",
        "from qiskit.visualization import *\n",
        "from qiskit.tools.monitor import *"
      ],
      "execution_count": 4,
      "outputs": []
    },
    {
      "cell_type": "code",
      "metadata": {
        "colab": {
          "base_uri": "https://localhost:8080/",
          "height": 140
        },
        "id": "RcV6l__OOtw3",
        "outputId": "0629322c-c431-4ec7-8701-cee4256f700b"
      },
      "source": [
        "circ_random = QuantumCircuit(1, 1)\n",
        "circ_random.h(0)\n",
        "circ_random.measure(range(1), range(1))\n",
        "circ_random.draw(output='mpl')"
      ],
      "execution_count": 5,
      "outputs": [
        {
          "output_type": "execute_result",
          "data": {
            "image/png": "[encoded data removed]",
            "text/plain": [
              "<Figure size 233.576x144.48 with 1 Axes>"
            ]
          },
          "metadata": {
            "tags": []
          },
          "execution_count": 5
        }
      ]
    },
    {
      "cell_type": "code",
      "metadata": {
        "colab": {
          "base_uri": "https://localhost:8080/"
        },
        "id": "5BmySqV8PKmM",
        "outputId": "424d1cd0-dddc-42ca-b2a5-966db8883b39"
      },
      "source": [
        "n = 100\n",
        "backend = Aer.get_backend('qasm_simulator')\n",
        "job = execute(circ_random, backend, shots=n, memory=True) #memory to recover the seq of measurements\n",
        "bits_alice = [int(q) for q in job.result().get_memory()]\n",
        "print(bits_alice)"
      ],
      "execution_count": 6,
      "outputs": [
        {
          "output_type": "stream",
          "text": [
            "[0, 1, 0, 0, 0, 0, 0, 0, 1, 0, 1, 1, 1, 1, 0, 1, 1, 1, 0, 1, 1, 0, 0, 1, 1, 0, 0, 1, 0, 1, 1, 0, 0, 1, 1, 0, 1, 1, 0, 1, 0, 1, 0, 1, 1, 0, 0, 0, 1, 0, 0, 1, 0, 1, 1, 1, 0, 0, 0, 1, 1, 1, 1, 0, 0, 0, 1, 0, 1, 0, 0, 1, 0, 0, 1, 1, 1, 1, 1, 0, 0, 1, 1, 1, 0, 1, 0, 0, 1, 1, 0, 1, 0, 1, 1, 0, 0, 1, 1, 0]\n"
          ],
          "name": "stdout"
        }
      ]
    },
    {
      "cell_type": "code",
      "metadata": {
        "colab": {
          "base_uri": "https://localhost:8080/"
        },
        "id": "aVNtm__WTfBq",
        "outputId": "e458f191-e3ec-48cd-8996-fc3801c6824f"
      },
      "source": [
        "job = execute(circ_random, backend, shots=n, memory=True)\n",
        "basis_alice = [int(q) for q in job.result().get_memory()]\n",
        "print(basis_alice)"
      ],
      "execution_count": 8,
      "outputs": [
        {
          "output_type": "stream",
          "text": [
            "[0, 1, 0, 1, 0, 0, 0, 1, 1, 1, 1, 1, 0, 1, 0, 1, 1, 1, 0, 0, 1, 0, 0, 0, 0, 1, 0, 1, 1, 1, 1, 1, 1, 1, 0, 0, 1, 1, 0, 1, 1, 0, 1, 0, 1, 1, 1, 0, 0, 0, 1, 0, 1, 0, 1, 0, 0, 1, 1, 0, 0, 0, 1, 0, 0, 0, 0, 1, 0, 1, 1, 0, 0, 1, 1, 1, 0, 1, 1, 0, 0, 0, 0, 0, 1, 0, 1, 1, 0, 0, 0, 1, 0, 1, 1, 0, 1, 0, 1, 1]\n"
          ],
          "name": "stdout"
        }
      ]
    },
    {
      "cell_type": "code",
      "metadata": {
        "colab": {
          "base_uri": "https://localhost:8080/"
        },
        "id": "Hw6quDtcPs8e",
        "outputId": "24c47222-62af-4dbc-809d-76583330d558"
      },
      "source": [
        "job = execute(circ_random, backend, shots=n, memory=True)\n",
        "basis_bob = [int(q) for q in job.result().get_memory()]\n",
        "print(basis_bob)"
      ],
      "execution_count": 7,
      "outputs": [
        {
          "output_type": "stream",
          "text": [
            "[0, 0, 0, 1, 0, 1, 1, 0, 1, 0, 1, 1, 0, 0, 1, 0, 1, 0, 1, 0, 1, 1, 1, 0, 1, 0, 1, 0, 0, 0, 0, 1, 1, 0, 0, 1, 1, 1, 1, 1, 1, 0, 0, 1, 1, 1, 0, 1, 0, 0, 0, 1, 1, 1, 1, 1, 1, 0, 0, 0, 0, 1, 0, 1, 1, 1, 1, 0, 0, 0, 1, 1, 1, 1, 1, 1, 0, 1, 0, 0, 1, 0, 0, 1, 0, 1, 1, 1, 1, 0, 0, 0, 0, 1, 1, 0, 1, 1, 1, 1]\n"
          ],
          "name": "stdout"
        }
      ]
    },
    {
      "cell_type": "code",
      "metadata": {
        "colab": {
          "base_uri": "https://localhost:8080/"
        },
        "id": "k7gPuLE_QSsG",
        "outputId": "14250b25-25c1-4e46-ba01-058b08eb7fea"
      },
      "source": [
        "bits_bob = []\n",
        "\n",
        "for i in range(n):\n",
        "  circ_send = QuantumCircuit(1, 1)\n",
        "  if bits_alice[i]:\n",
        "    circ_send.x(0)\n",
        "  if basis_alice[i]:\n",
        "    circ_send.h(0)\n",
        "  \n",
        "  if basis_bob[i]:\n",
        "    circ_send.h(0)\n",
        "  \n",
        "  circ_send.measure(0, 0)\n",
        "\n",
        "  job = execute(circ_send, backend, shots=1, memory=True)\n",
        "  bits_bob.append(int(job.result().get_memory()[0]))\n",
        "\n",
        "print(bits_bob)"
      ],
      "execution_count": 9,
      "outputs": [
        {
          "output_type": "stream",
          "text": [
            "[0, 0, 0, 0, 0, 0, 1, 0, 1, 0, 1, 1, 1, 1, 0, 0, 1, 1, 0, 1, 1, 0, 1, 1, 0, 0, 0, 0, 1, 0, 1, 0, 0, 0, 1, 0, 1, 1, 0, 1, 0, 1, 1, 0, 1, 0, 0, 1, 1, 0, 0, 0, 0, 0, 1, 0, 0, 0, 0, 1, 1, 0, 0, 0, 0, 1, 1, 1, 1, 1, 0, 0, 1, 0, 1, 1, 1, 1, 1, 0, 1, 1, 1, 1, 1, 1, 0, 0, 0, 1, 0, 0, 0, 1, 1, 0, 0, 0, 1, 0]\n"
          ],
          "name": "stdout"
        }
      ]
    },
    {
      "cell_type": "code",
      "metadata": {
        "colab": {
          "base_uri": "https://localhost:8080/"
        },
        "id": "dn9CsFoRUmyM",
        "outputId": "4f9b4ade-c0b6-456e-ed24-ee402e07a0f7"
      },
      "source": [
        "key = []\n",
        "\n",
        "for i in range(n):\n",
        "  if basis_alice[i] == basis_bob[i]:\n",
        "    key.append(bits_bob[i])\n",
        "\n",
        "print(\"Key length\", len(key))\n",
        "print(key)"
      ],
      "execution_count": 10,
      "outputs": [
        {
          "output_type": "stream",
          "text": [
            "Key length 49\n",
            "[0, 0, 0, 0, 1, 1, 1, 1, 1, 1, 1, 1, 0, 0, 1, 1, 1, 1, 0, 1, 1, 0, 1, 0, 0, 1, 1, 1, 1, 0, 0, 1, 1, 1, 1, 0, 1, 1, 0, 0, 1, 0, 0, 1, 1, 0, 0, 1, 0]\n"
          ],
          "name": "stdout"
        }
      ]
    }
  ]
}